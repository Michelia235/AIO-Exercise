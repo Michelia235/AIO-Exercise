{
  "nbformat": 4,
  "nbformat_minor": 0,
  "metadata": {
    "colab": {
      "provenance": []
    },
    "kernelspec": {
      "name": "python3",
      "display_name": "Python 3"
    },
    "language_info": {
      "name": "python"
    }
  },
  "cells": [
    {
      "cell_type": "markdown",
      "source": [
        "#**1. Import các thư viện cần thiết:**"
      ],
      "metadata": {
        "id": "YcmE8D_9-fIw"
      }
    },
    {
      "cell_type": "code",
      "source": [
        "!pip install unidecode"
      ],
      "metadata": {
        "colab": {
          "base_uri": "https://localhost:8080/"
        },
        "id": "_Sfl3lcN_QS_",
        "outputId": "f1f84409-fe3d-410c-8526-8a5b39d1f986"
      },
      "execution_count": 15,
      "outputs": [
        {
          "output_type": "stream",
          "name": "stdout",
          "text": [
            "Requirement already satisfied: unidecode in /usr/local/lib/python3.10/dist-packages (1.3.8)\n"
          ]
        }
      ]
    },
    {
      "cell_type": "code",
      "execution_count": 16,
      "metadata": {
        "colab": {
          "base_uri": "https://localhost:8080/"
        },
        "id": "H9YQEKwP97Np",
        "outputId": "75f4f46d-ed95-4760-b086-f3e66f5e0ad6"
      },
      "outputs": [
        {
          "output_type": "stream",
          "name": "stderr",
          "text": [
            "[nltk_data] Downloading package stopwords to /root/nltk_data...\n",
            "[nltk_data]   Package stopwords is already up-to-date!\n"
          ]
        }
      ],
      "source": [
        "import torch\n",
        "import torch.nn as nn\n",
        "\n",
        "seed = 1\n",
        "torch.manual_seed(seed)\n",
        "\n",
        "import os\n",
        "import numpy as np\n",
        "import pandas as pd\n",
        "import matplotlib.pyplot as plt\n",
        "import re\n",
        "import nltk\n",
        "import unidecode\n",
        "\n",
        "nltk.download('stopwords')\n",
        "from nltk.corpus import stopwords\n",
        "from nltk.stem.porter import PorterStemmer\n",
        "\n",
        "from torch.utils.data import Dataset, DataLoader\n",
        "from sklearn.model_selection import train_test_split"
      ]
    },
    {
      "cell_type": "markdown",
      "source": [
        "#**2. Tải bộ dữ liệu:**"
      ],
      "metadata": {
        "id": "ncvMKDDF-vux"
      }
    },
    {
      "cell_type": "code",
      "source": [
        "!gdown --id 1uYXI4O3oWBA6QC8ZJ-r6yaTTfkdAnl_Q\n",
        "!unzip dataset.zip"
      ],
      "metadata": {
        "colab": {
          "base_uri": "https://localhost:8080/"
        },
        "id": "fdT8bd8Z-lAA",
        "outputId": "486d531f-4d41-4907-b23c-1c8788e5a547"
      },
      "execution_count": 17,
      "outputs": [
        {
          "output_type": "stream",
          "name": "stdout",
          "text": [
            "/usr/local/lib/python3.10/dist-packages/gdown/__main__.py:140: FutureWarning: Option `--id` was deprecated in version 4.3.1 and will be removed in 5.0. You don't need to pass it anymore to use a file ID.\n",
            "  warnings.warn(\n",
            "Downloading...\n",
            "From: https://drive.google.com/uc?id=1uYXI4O3oWBA6QC8ZJ-r6yaTTfkdAnl_Q\n",
            "To: /content/dataset.zip\n",
            "100% 230k/230k [00:00<00:00, 19.2MB/s]\n",
            "Archive:  dataset.zip\n",
            "replace dataset/all-data.csv? [y]es, [n]o, [A]ll, [N]one, [r]ename: y\n",
            "  inflating: dataset/all-data.csv    \n"
          ]
        }
      ]
    },
    {
      "cell_type": "markdown",
      "source": [
        "#**3. Đọc bộ dữ liệu:**"
      ],
      "metadata": {
        "id": "4Z87mJJS-2RI"
      }
    },
    {
      "cell_type": "code",
      "source": [
        "dataset_path = 'dataset/all-data.csv'\n",
        "headers = ['sentiment', 'content']\n",
        "df = pd.read_csv(dataset_path,\n",
        "                 names=headers,\n",
        "                 encoding='ISO-8859-1')"
      ],
      "metadata": {
        "id": "zvnYotLt-3TF"
      },
      "execution_count": 18,
      "outputs": []
    },
    {
      "cell_type": "code",
      "source": [
        "classes = {class_name: idx for idx, class_name in enumerate(df['sentiment'].unique().tolist())}\n",
        "df['sentiment'] = df['sentiment'].apply(lambda x: classes[x])"
      ],
      "metadata": {
        "id": "YoBGX4FX_GBJ"
      },
      "execution_count": 19,
      "outputs": []
    },
    {
      "cell_type": "markdown",
      "source": [
        "#**4. Tiền xử lý dữ liệu:**"
      ],
      "metadata": {
        "id": "2l85DRSz_cpl"
      }
    },
    {
      "cell_type": "code",
      "source": [
        "english_stop_words = stopwords.words('english')\n",
        "stemmer = PorterStemmer()\n",
        "\n",
        "def text_normalize(text):\n",
        "    text = text.lower()\n",
        "    text = unidecode.unidecode(text)\n",
        "    text = text.strip()\n",
        "    text = re.sub(r'[^\\w\\s]', '', text)\n",
        "    text = ' '.join([word for word in text.split(' ') if word not in english_stop_words])\n",
        "    text = ' '.join([stemmer.stem(word) for word in text.split(' ')])\n",
        "\n",
        "    return text"
      ],
      "metadata": {
        "id": "yDsKqqke_dt5"
      },
      "execution_count": 20,
      "outputs": []
    },
    {
      "cell_type": "code",
      "source": [
        "df['content'] = df['content'].apply(lambda x: text_normalize(x))"
      ],
      "metadata": {
        "id": "-hMyQHc-_jpG"
      },
      "execution_count": 21,
      "outputs": []
    },
    {
      "cell_type": "markdown",
      "source": [
        "#**5. Xây dựng bộ từ vựng:**"
      ],
      "metadata": {
        "id": "JFf_VLNL_olQ"
      }
    },
    {
      "cell_type": "code",
      "source": [
        "vocab = []\n",
        "for sentence in df['content'].tolist():\n",
        "    tokens = sentence.split()\n",
        "    for token in tokens:\n",
        "        if token not in vocab:\n",
        "            vocab.append(token)\n",
        "\n",
        "vocab.append('UNK')\n",
        "vocab.append('PAD')\n",
        "word_to_idx = {word: idx for idx, word in enumerate(vocab)}\n",
        "vocab_size = len(vocab)"
      ],
      "metadata": {
        "id": "DmKuCHSp_qG4"
      },
      "execution_count": 22,
      "outputs": []
    },
    {
      "cell_type": "code",
      "source": [
        "def transform(text, word_to_idx, max_seq_len):\n",
        "    tokens = []\n",
        "    for w in text.split():\n",
        "        try:\n",
        "            w_ids = word_to_idx[w]\n",
        "        except:\n",
        "            w_ids = word_to_idx['UNK']\n",
        "        tokens.append(w_ids)\n",
        "\n",
        "    if len(tokens) < max_seq_len:\n",
        "        tokens += [word_to_idx['PAD']] * (max_seq_len - len(tokens))\n",
        "    elif len(tokens) > max_seq_len:\n",
        "        tokens = tokens[:max_seq_len]\n",
        "\n",
        "    return tokens"
      ],
      "metadata": {
        "id": "fJykAVBo_zX-"
      },
      "execution_count": 23,
      "outputs": []
    },
    {
      "cell_type": "markdown",
      "source": [
        "#**6. Chia bộ dữ liệu train, val, test:**"
      ],
      "metadata": {
        "id": "Hm9vS7iVAplT"
      }
    },
    {
      "cell_type": "code",
      "source": [
        "val_size = 0.2\n",
        "test_size = 0.125\n",
        "is_shuffle = True\n",
        "texts = df['content'].tolist()\n",
        "labels = df['sentiment'].tolist()\n",
        "\n",
        "X_train, X_val, y_train, y_val = train_test_split(\n",
        "    texts, labels,\n",
        "    test_size=val_size,\n",
        "    random_state=seed,\n",
        "    shuffle=is_shuffle\n",
        ")\n",
        "\n",
        "X_train, X_test, y_train, y_test = train_test_split(\n",
        "    X_train, y_train,\n",
        "    test_size=val_size,\n",
        "    random_state=seed,\n",
        "    shuffle=is_shuffle\n",
        ")"
      ],
      "metadata": {
        "id": "Y3om_7BLAqrx"
      },
      "execution_count": 24,
      "outputs": []
    },
    {
      "cell_type": "markdown",
      "source": [
        "#**7. Xây dựng pytorch datasets:**"
      ],
      "metadata": {
        "id": "-JNhj0CyAwSY"
      }
    },
    {
      "cell_type": "code",
      "source": [
        "class FinancialNews(Dataset):\n",
        "    def __init__(\n",
        "        self,\n",
        "        X, y,\n",
        "        word_to_idx,\n",
        "        max_seq_len,\n",
        "        transform=None\n",
        "    ):\n",
        "        self.texts = X\n",
        "        self.labels = y\n",
        "        self.word_to_idx = word_to_idx\n",
        "        self.max_seq_len = max_seq_len\n",
        "        self.transform = transform\n",
        "\n",
        "    def __len__(self):\n",
        "        return len(self.texts)\n",
        "\n",
        "    def __getitem__(self, idx):\n",
        "        text = self.texts[idx]\n",
        "        label = self.labels[idx]\n",
        "\n",
        "        if self.transform:\n",
        "            text = self.transform(text, self.word_to_idx, self.max_seq_len)\n",
        "        text = torch.tensor(text)\n",
        "\n",
        "        return text, label"
      ],
      "metadata": {
        "id": "7EoB75lKAx2q"
      },
      "execution_count": 25,
      "outputs": []
    },
    {
      "cell_type": "markdown",
      "source": [
        "#**8. Khai báo dataloader:**"
      ],
      "metadata": {
        "id": "jURpXsg9A2tF"
      }
    },
    {
      "cell_type": "code",
      "source": [
        "max_seq_len = 32\n",
        "\n",
        "train_dataset = FinancialNews(\n",
        "    X_train, y_train,\n",
        "    word_to_idx=word_to_idx,\n",
        "    max_seq_len=max_seq_len,\n",
        "    transform=transform\n",
        ")\n",
        "val_dataset = FinancialNews(\n",
        "    X_val, y_val,\n",
        "    word_to_idx=word_to_idx,\n",
        "    max_seq_len=max_seq_len,\n",
        "    transform=transform\n",
        ")\n",
        "test_dataset = FinancialNews(\n",
        "    X_test, y_test,\n",
        "    word_to_idx=word_to_idx,\n",
        "    max_seq_len=max_seq_len,\n",
        "    transform=transform\n",
        ")\n",
        "\n",
        "train_batch_size = 128\n",
        "test_batch_size = 8\n",
        "\n",
        "train_loader = DataLoader(\n",
        "    train_dataset,\n",
        "    batch_size=train_batch_size,\n",
        "    shuffle=True\n",
        ")\n",
        "val_loader = DataLoader(\n",
        "    val_dataset,\n",
        "    batch_size=test_batch_size,\n",
        "    shuffle=False\n",
        ")\n",
        "test_loader = DataLoader(\n",
        "    test_dataset,\n",
        "    batch_size=test_batch_size,\n",
        "    shuffle=False\n",
        ")"
      ],
      "metadata": {
        "id": "zr2EOwVAAtLd"
      },
      "execution_count": 26,
      "outputs": []
    },
    {
      "cell_type": "markdown",
      "source": [
        "#**9. Xây dựng mô hình:**"
      ],
      "metadata": {
        "id": "PFGbY0glBAhx"
      }
    },
    {
      "cell_type": "code",
      "source": [
        "class SentimentClassifier(nn.Module):\n",
        "    def __init__(\n",
        "        self, vocab_size, embedding_dim,\n",
        "        hidden_size, n_layers, n_classes,\n",
        "        dropout_prob\n",
        "    ):\n",
        "        super(SentimentClassifier, self).__init__()\n",
        "        self.embedding = nn.Embedding(vocab_size, embedding_dim)\n",
        "        self.bilstm = nn.LSTM(\n",
        "            embedding_dim, hidden_size,\n",
        "            num_layers=n_layers,\n",
        "            batch_first=True,\n",
        "            bidirectional=True\n",
        "        )\n",
        "        self.norm = nn.LayerNorm(hidden_size * 2)\n",
        "        self.dropout = nn.Dropout(dropout_prob)\n",
        "        self.fc1 = nn.Linear(hidden_size * 2, 16)\n",
        "        self.relu = nn.ReLU()\n",
        "        self.fc2 = nn.Linear(16, n_classes)\n",
        "\n",
        "    def forward(self, x):\n",
        "        x = self.embedding(x)\n",
        "        x, hn = self.bilstm(x)\n",
        "        x = x[:, -1, :]\n",
        "        x = self.norm(x)\n",
        "        x = self.dropout(x)\n",
        "        x = self.fc1(x)\n",
        "        x = self.relu(x)\n",
        "        x = self.fc2(x)\n",
        "\n",
        "        return x"
      ],
      "metadata": {
        "id": "pwpUzijwA6g_"
      },
      "execution_count": 27,
      "outputs": []
    },
    {
      "cell_type": "code",
      "source": [
        "n_classes = len(list(classes.keys()))\n",
        "embedding_dim = 64\n",
        "hidden_size = 64\n",
        "n_layers = 2\n",
        "dropout_prob = 0.2\n",
        "device = 'cuda' if torch.cuda.is_available() else 'cpu'\n",
        "\n",
        "model = SentimentClassifier(\n",
        "    vocab_size=vocab_size,\n",
        "    embedding_dim=embedding_dim,\n",
        "    hidden_size=hidden_size,\n",
        "    n_layers=n_layers,\n",
        "    n_classes=n_classes,\n",
        "    dropout_prob=dropout_prob\n",
        ").to(device)"
      ],
      "metadata": {
        "id": "QXkrNIfKBGao"
      },
      "execution_count": 28,
      "outputs": []
    },
    {
      "cell_type": "markdown",
      "source": [
        "#**10. Cài đặt hàm loss và optimizer:**"
      ],
      "metadata": {
        "id": "bzPrGPs8BJDY"
      }
    },
    {
      "cell_type": "code",
      "source": [
        "lr = 1e-4\n",
        "epochs = 50\n",
        "\n",
        "criterion = nn.CrossEntropyLoss()\n",
        "optimizer = torch.optim.Adam(\n",
        "    model.parameters(),\n",
        "    lr=lr)"
      ],
      "metadata": {
        "id": "0GvMop57BG4B"
      },
      "execution_count": 29,
      "outputs": []
    },
    {
      "cell_type": "markdown",
      "source": [
        "#**11. Thực hiện huấn luyện:**"
      ],
      "metadata": {
        "id": "VXJejpF-Bi1p"
      }
    },
    {
      "cell_type": "code",
      "source": [
        "def fit(\n",
        "    model,\n",
        "    train_loader,\n",
        "    val_loader,\n",
        "    criterion,\n",
        "    optimizer,\n",
        "    device,\n",
        "    epochs\n",
        "):\n",
        "    train_losses = []\n",
        "    val_losses = []\n",
        "\n",
        "    for epoch in range(epochs):\n",
        "        batch_train_losses = []\n",
        "\n",
        "        model.train()\n",
        "        for idx, (inputs, labels) in enumerate(train_loader):\n",
        "            inputs, labels = inputs.to(device), labels.to(device)\n",
        "\n",
        "            optimizer.zero_grad()\n",
        "            outputs = model(inputs)\n",
        "            loss = criterion(outputs, labels)\n",
        "            loss.backward()\n",
        "            optimizer.step()\n",
        "\n",
        "            batch_train_losses.append(loss.item())\n",
        "\n",
        "        train_loss = sum(batch_train_losses) / len(batch_train_losses)\n",
        "        train_losses.append(train_loss)\n",
        "\n",
        "        val_loss, val_acc = evaluate(\n",
        "            model, val_loader,\n",
        "            criterion, device\n",
        "        )\n",
        "        val_losses.append(val_loss)\n",
        "\n",
        "        print(f'EPOCH {epoch + 1}:\\tTrain loss: {train_loss:.4f}\\tVal loss: {val_loss:.4f}')\n",
        "\n",
        "    return train_losses, val_losses"
      ],
      "metadata": {
        "id": "PUg2sr--Bj0S"
      },
      "execution_count": 30,
      "outputs": []
    },
    {
      "cell_type": "code",
      "source": [
        "def evaluate(model, dataloader, criterion, device):\n",
        "    model.eval()\n",
        "    correct = 0\n",
        "    total = 0\n",
        "    losses = []\n",
        "    with torch.no_grad():\n",
        "        for inputs, labels in dataloader:\n",
        "            inputs, labels = inputs.to(device), labels.to(device)\n",
        "            outputs = model(inputs)\n",
        "            loss = criterion(outputs, labels)\n",
        "            losses.append(loss.item())\n",
        "            _, predicted = torch.max(outputs.data, 1)\n",
        "            total += labels.size(0)\n",
        "            correct += (predicted == labels).sum().item()\n",
        "\n",
        "    loss = sum(losses) / len(losses)\n",
        "    acc = correct / total\n",
        "\n",
        "    return loss, acc"
      ],
      "metadata": {
        "id": "Af0DuiQOB4Fa"
      },
      "execution_count": 31,
      "outputs": []
    },
    {
      "cell_type": "code",
      "source": [
        "train_losses, val_losses = fit(\n",
        "    model,\n",
        "    train_loader,\n",
        "    val_loader,\n",
        "    criterion,\n",
        "    optimizer,\n",
        "    device,\n",
        "    epochs\n",
        ")"
      ],
      "metadata": {
        "colab": {
          "base_uri": "https://localhost:8080/"
        },
        "id": "80K05XXFB7v8",
        "outputId": "387e806a-51e8-4edc-bcaf-6b1560e2ad23"
      },
      "execution_count": 32,
      "outputs": [
        {
          "output_type": "stream",
          "name": "stdout",
          "text": [
            "EPOCH 1:\tTrain loss: 0.9420\tVal loss: 0.9265\n",
            "EPOCH 2:\tTrain loss: 0.9332\tVal loss: 0.9275\n",
            "EPOCH 3:\tTrain loss: 0.9353\tVal loss: 0.9272\n",
            "EPOCH 4:\tTrain loss: 0.9337\tVal loss: 0.9281\n",
            "EPOCH 5:\tTrain loss: 0.9333\tVal loss: 0.9260\n",
            "EPOCH 6:\tTrain loss: 0.9326\tVal loss: 0.9259\n",
            "EPOCH 7:\tTrain loss: 0.9341\tVal loss: 0.9261\n",
            "EPOCH 8:\tTrain loss: 0.9255\tVal loss: 0.9255\n",
            "EPOCH 9:\tTrain loss: 0.9367\tVal loss: 0.9252\n",
            "EPOCH 10:\tTrain loss: 0.9343\tVal loss: 0.9252\n",
            "EPOCH 11:\tTrain loss: 0.9276\tVal loss: 0.9250\n",
            "EPOCH 12:\tTrain loss: 0.9317\tVal loss: 0.9262\n",
            "EPOCH 13:\tTrain loss: 0.9296\tVal loss: 0.9252\n",
            "EPOCH 14:\tTrain loss: 0.9303\tVal loss: 0.9250\n",
            "EPOCH 15:\tTrain loss: 0.9289\tVal loss: 0.9248\n",
            "EPOCH 16:\tTrain loss: 0.9277\tVal loss: 0.9236\n",
            "EPOCH 17:\tTrain loss: 0.9310\tVal loss: 0.9273\n",
            "EPOCH 18:\tTrain loss: 0.9266\tVal loss: 0.9231\n",
            "EPOCH 19:\tTrain loss: 0.9328\tVal loss: 0.9223\n",
            "EPOCH 20:\tTrain loss: 0.9270\tVal loss: 0.9227\n",
            "EPOCH 21:\tTrain loss: 0.9176\tVal loss: 0.9223\n",
            "EPOCH 22:\tTrain loss: 0.9186\tVal loss: 0.9242\n",
            "EPOCH 23:\tTrain loss: 0.9272\tVal loss: 0.9191\n",
            "EPOCH 24:\tTrain loss: 0.9168\tVal loss: 0.9254\n",
            "EPOCH 25:\tTrain loss: 0.9200\tVal loss: 0.9153\n",
            "EPOCH 26:\tTrain loss: 0.9027\tVal loss: 0.9146\n",
            "EPOCH 27:\tTrain loss: 0.9013\tVal loss: 0.9049\n",
            "EPOCH 28:\tTrain loss: 0.8822\tVal loss: 0.8868\n",
            "EPOCH 29:\tTrain loss: 0.8509\tVal loss: 0.8926\n",
            "EPOCH 30:\tTrain loss: 0.8620\tVal loss: 0.8873\n",
            "EPOCH 31:\tTrain loss: 0.8521\tVal loss: 0.8688\n",
            "EPOCH 32:\tTrain loss: 0.8396\tVal loss: 0.8701\n",
            "EPOCH 33:\tTrain loss: 0.8245\tVal loss: 0.8658\n",
            "EPOCH 34:\tTrain loss: 0.8225\tVal loss: 0.8759\n",
            "EPOCH 35:\tTrain loss: 0.8136\tVal loss: 0.8687\n",
            "EPOCH 36:\tTrain loss: 0.8091\tVal loss: 0.8809\n",
            "EPOCH 37:\tTrain loss: 0.8019\tVal loss: 0.9401\n",
            "EPOCH 38:\tTrain loss: 0.8131\tVal loss: 0.8771\n",
            "EPOCH 39:\tTrain loss: 0.7956\tVal loss: 0.9054\n",
            "EPOCH 40:\tTrain loss: 0.7885\tVal loss: 0.8842\n",
            "EPOCH 41:\tTrain loss: 0.7696\tVal loss: 0.8963\n",
            "EPOCH 42:\tTrain loss: 0.7657\tVal loss: 0.8723\n",
            "EPOCH 43:\tTrain loss: 0.7637\tVal loss: 0.8822\n",
            "EPOCH 44:\tTrain loss: 0.7409\tVal loss: 0.8843\n",
            "EPOCH 45:\tTrain loss: 0.7490\tVal loss: 0.8855\n",
            "EPOCH 46:\tTrain loss: 0.7311\tVal loss: 0.8977\n",
            "EPOCH 47:\tTrain loss: 0.7346\tVal loss: 0.9011\n",
            "EPOCH 48:\tTrain loss: 0.7270\tVal loss: 0.8839\n",
            "EPOCH 49:\tTrain loss: 0.7161\tVal loss: 0.9140\n",
            "EPOCH 50:\tTrain loss: 0.7001\tVal loss: 0.9050\n"
          ]
        }
      ]
    },
    {
      "cell_type": "markdown",
      "source": [
        "#**12. Đánh giá mô hình:**"
      ],
      "metadata": {
        "id": "h6Hw3lt-B89b"
      }
    },
    {
      "cell_type": "code",
      "source": [
        "fig, ax = plt.subplots(1, 2, figsize=(12, 5))\n",
        "\n",
        "ax[0].plot(train_losses)\n",
        "ax[0].set_title('Training Loss')\n",
        "ax[0].set_xlabel('Epoch')\n",
        "ax[0].set_ylabel('Loss')\n",
        "\n",
        "ax[1].plot(val_losses, color='orange')\n",
        "ax[1].set_title('Val Loss')\n",
        "ax[1].set_xlabel('Epoch')\n",
        "ax[1].set_ylabel('Loss')\n",
        "plt.show()"
      ],
      "metadata": {
        "colab": {
          "base_uri": "https://localhost:8080/",
          "height": 487
        },
        "id": "mc2Oe1ktCCQD",
        "outputId": "d016acfe-a5d7-451e-f660-05609cdf07e8"
      },
      "execution_count": 33,
      "outputs": [
        {
          "output_type": "display_data",
          "data": {
            "text/plain": [
              "<Figure size 1200x500 with 2 Axes>"
            ],
            "image/png": "[encoded data removed]"
          },
          "metadata": {}
        }
      ]
    },
    {
      "cell_type": "code",
      "source": [
        "\n",
        "val_loss, val_acc = evaluate(\n",
        "    model,\n",
        "    val_loader,\n",
        "    criterion,\n",
        "    device\n",
        ")\n",
        "test_loss, test_acc = evaluate(\n",
        "    model,\n",
        "    test_loader,\n",
        "    criterion,\n",
        "    device\n",
        ")\n",
        "\n",
        "print('Evaluation on val/test dataset')\n",
        "print('Val accuracy: ', val_acc)\n",
        "print('Test accuracy: ', test_acc)"
      ],
      "metadata": {
        "colab": {
          "base_uri": "https://localhost:8080/"
        },
        "id": "L6BvJ7yLCFGC",
        "outputId": "d1269545-9e8f-4706-9775-3cba684d6282"
      },
      "execution_count": 34,
      "outputs": [
        {
          "output_type": "stream",
          "name": "stdout",
          "text": [
            "Evaluation on val/test dataset\n",
            "Val accuracy:  0.6144329896907217\n",
            "Test accuracy:  0.6314432989690721\n"
          ]
        }
      ]
    }
  ]
}