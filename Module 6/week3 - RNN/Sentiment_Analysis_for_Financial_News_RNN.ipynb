{
  "cells": [
    {
      "cell_type": "markdown",
      "source": [
        "#**1. Import các thư viện cần thiết:**"
      ],
      "metadata": {
        "id": "u1wBseXFEQ-E"
      },
      "id": "u1wBseXFEQ-E"
    },
    {
      "cell_type": "code",
      "source": [
        "!pip install unidecode"
      ],
      "metadata": {
        "colab": {
          "base_uri": "https://localhost:8080/"
        },
        "id": "_42WqgBHypNM",
        "outputId": "5e00b7ce-a5de-47aa-b53c-e0d174d68ea8"
      },
      "id": "_42WqgBHypNM",
      "execution_count": 1,
      "outputs": [
        {
          "output_type": "stream",
          "name": "stdout",
          "text": [
            "Collecting unidecode\n",
            "  Downloading Unidecode-1.3.8-py3-none-any.whl.metadata (13 kB)\n",
            "Downloading Unidecode-1.3.8-py3-none-any.whl (235 kB)\n",
            "\u001b[?25l   \u001b[90m━━━━━━━━━━━━━━━━━━━━━━━━━━━━━━━━━━━━━━━━\u001b[0m \u001b[32m0.0/235.5 kB\u001b[0m \u001b[31m?\u001b[0m eta \u001b[36m-:--:--\u001b[0m\r\u001b[2K   \u001b[90m━━━━━━━━━━━━━━━━━━━━━━━━━━━━━━━━━━━━━━━━\u001b[0m \u001b[32m235.5/235.5 kB\u001b[0m \u001b[31m18.0 MB/s\u001b[0m eta \u001b[36m0:00:00\u001b[0m\n",
            "\u001b[?25hInstalling collected packages: unidecode\n",
            "Successfully installed unidecode-1.3.8\n"
          ]
        }
      ]
    },
    {
      "cell_type": "code",
      "execution_count": 2,
      "id": "5eefab75",
      "metadata": {
        "scrolled": true,
        "colab": {
          "base_uri": "https://localhost:8080/"
        },
        "id": "5eefab75",
        "outputId": "e3646baf-fabf-4610-e162-e3fe411f98d8"
      },
      "outputs": [
        {
          "output_type": "stream",
          "name": "stderr",
          "text": [
            "[nltk_data] Downloading package stopwords to /root/nltk_data...\n",
            "[nltk_data]   Unzipping corpora/stopwords.zip.\n"
          ]
        }
      ],
      "source": [
        "import torch\n",
        "import torch.nn as nn\n",
        "\n",
        "seed = 1\n",
        "torch.manual_seed(seed)\n",
        "\n",
        "import os\n",
        "import numpy as np\n",
        "import pandas as pd\n",
        "import matplotlib.pyplot as plt\n",
        "import re\n",
        "import nltk\n",
        "import unidecode\n",
        "\n",
        "nltk.download('stopwords')\n",
        "from nltk.corpus import stopwords\n",
        "from nltk.stem.porter import PorterStemmer\n",
        "\n",
        "from torch.utils.data import Dataset, DataLoader\n",
        "from sklearn.model_selection import train_test_split"
      ]
    },
    {
      "cell_type": "markdown",
      "source": [
        "#**2. Tải bộ dữ liệu:**"
      ],
      "metadata": {
        "id": "PvhLdXtWEVVy"
      },
      "id": "PvhLdXtWEVVy"
    },
    {
      "cell_type": "code",
      "execution_count": 3,
      "id": "631a7fa8",
      "metadata": {
        "colab": {
          "base_uri": "https://localhost:8080/"
        },
        "id": "631a7fa8",
        "outputId": "e978403e-4401-4b1a-8054-cdc4f4b26b32"
      },
      "outputs": [
        {
          "output_type": "stream",
          "name": "stdout",
          "text": [
            "/usr/local/lib/python3.10/dist-packages/gdown/__main__.py:140: FutureWarning: Option `--id` was deprecated in version 4.3.1 and will be removed in 5.0. You don't need to pass it anymore to use a file ID.\n",
            "  warnings.warn(\n",
            "Downloading...\n",
            "From: https://drive.google.com/uc?id=1uYXI4O3oWBA6QC8ZJ-r6yaTTfkdAnl_Q\n",
            "To: /content/dataset.zip\n",
            "100% 230k/230k [00:00<00:00, 84.8MB/s]\n",
            "Archive:  dataset.zip\n",
            "   creating: dataset/\n",
            "  inflating: dataset/all-data.csv    \n"
          ]
        }
      ],
      "source": [
        "!gdown --id 1uYXI4O3oWBA6QC8ZJ-r6yaTTfkdAnl_Q\n",
        "!unzip dataset.zip"
      ]
    },
    {
      "cell_type": "markdown",
      "source": [
        "#**3. Đọc bộ dữ liệu:**"
      ],
      "metadata": {
        "id": "sRjxz6M6EXys"
      },
      "id": "sRjxz6M6EXys"
    },
    {
      "cell_type": "code",
      "execution_count": 4,
      "id": "0d4f054a",
      "metadata": {
        "scrolled": false,
        "id": "0d4f054a"
      },
      "outputs": [],
      "source": [
        "dataset_path = 'dataset/all-data.csv'\n",
        "headers = ['sentiment', 'content']\n",
        "df = pd.read_csv(dataset_path, names=headers, encoding='ISO-8859-1')"
      ]
    },
    {
      "cell_type": "code",
      "execution_count": 5,
      "id": "7722ed65",
      "metadata": {
        "scrolled": false,
        "id": "7722ed65"
      },
      "outputs": [],
      "source": [
        "classes = {class_name: idx for idx, class_name in enumerate(df['sentiment'].unique().tolist())}\n",
        "df['sentiment'] = df['sentiment'].apply(lambda x: classes[x])"
      ]
    },
    {
      "cell_type": "markdown",
      "source": [
        "#**4. Tiền xử lý dữ liệu:**"
      ],
      "metadata": {
        "id": "MqlfM0-wEeLC"
      },
      "id": "MqlfM0-wEeLC"
    },
    {
      "cell_type": "code",
      "execution_count": 6,
      "id": "c2b2e79d",
      "metadata": {
        "id": "c2b2e79d"
      },
      "outputs": [],
      "source": [
        "english_stop_words = stopwords.words('english')\n",
        "stemmer = PorterStemmer()\n",
        "\n",
        "def text_normalize(text):\n",
        "    text = text.lower()\n",
        "    text = unidecode.unidecode(text)\n",
        "    text = text.strip()\n",
        "    text = re.sub(r'[^\\w\\s]', '', text)\n",
        "    text = ' '.join([word for word in text.split(' ') if word not in english_stop_words])\n",
        "    text = ' '.join([stemmer.stem(word) for word in text.split(' ')])\n",
        "\n",
        "    return text"
      ]
    },
    {
      "cell_type": "code",
      "execution_count": 7,
      "id": "98c0df50",
      "metadata": {
        "id": "98c0df50"
      },
      "outputs": [],
      "source": [
        "df['content'] = df['content'].apply(lambda x: text_normalize(x))"
      ]
    },
    {
      "cell_type": "markdown",
      "source": [
        "#**5. Xây dựng bộ từ vựng:**"
      ],
      "metadata": {
        "id": "7_fWbBbVFDtN"
      },
      "id": "7_fWbBbVFDtN"
    },
    {
      "cell_type": "code",
      "execution_count": 8,
      "id": "a6f45364",
      "metadata": {
        "id": "a6f45364"
      },
      "outputs": [],
      "source": [
        "vocab = []\n",
        "for sentence in df['content'].tolist():\n",
        "    tokens = sentence.split()\n",
        "    for token in tokens:\n",
        "        if token not in vocab:\n",
        "            vocab.append(token)\n",
        "\n",
        "vocab.append('UNK')\n",
        "vocab.append('PAD')\n",
        "word_to_idx = {word: idx for idx, word in enumerate(vocab)}\n",
        "vocab_size = len(vocab)"
      ]
    },
    {
      "cell_type": "code",
      "execution_count": 9,
      "id": "64e0a471",
      "metadata": {
        "id": "64e0a471"
      },
      "outputs": [],
      "source": [
        "def transform(text, word_to_idx, max_seq_len):\n",
        "    tokens = []\n",
        "    for w in text.split():\n",
        "        try:\n",
        "            w_ids = word_to_idx[w]\n",
        "        except:\n",
        "            w_ids = word_to_idx['UNK']\n",
        "        tokens.append(w_ids)\n",
        "\n",
        "    if len(tokens) < max_seq_len:\n",
        "        tokens += [word_to_idx['PAD']] * (max_seq_len - len(tokens))\n",
        "    elif len(tokens) > max_seq_len:\n",
        "        tokens = tokens[:max_seq_len]\n",
        "\n",
        "    return tokens"
      ]
    },
    {
      "cell_type": "markdown",
      "source": [
        "#**6. Chia bộ dữ liệu train, val, test:**"
      ],
      "metadata": {
        "id": "Albw08s5FGa5"
      },
      "id": "Albw08s5FGa5"
    },
    {
      "cell_type": "code",
      "execution_count": 10,
      "id": "08f3446b",
      "metadata": {
        "id": "08f3446b"
      },
      "outputs": [],
      "source": [
        "val_size = 0.2\n",
        "test_size = 0.125\n",
        "is_shuffle = True\n",
        "texts = df['content'].tolist()\n",
        "labels = df['sentiment'].tolist()\n",
        "\n",
        "X_train, X_val, y_train, y_val = train_test_split(\n",
        "    texts, labels,\n",
        "    test_size=val_size,\n",
        "    random_state=seed,\n",
        "    shuffle=is_shuffle\n",
        ")\n",
        "\n",
        "X_train, X_test, y_train, y_test = train_test_split(\n",
        "    X_train, y_train,\n",
        "    test_size=val_size,\n",
        "    random_state=seed,\n",
        "    shuffle=is_shuffle\n",
        ")"
      ]
    },
    {
      "cell_type": "markdown",
      "source": [
        "#**7. Xây dựng pytorch datasets:**"
      ],
      "metadata": {
        "id": "LtHz1DdLFIpc"
      },
      "id": "LtHz1DdLFIpc"
    },
    {
      "cell_type": "code",
      "execution_count": 11,
      "id": "9941afd8",
      "metadata": {
        "id": "9941afd8"
      },
      "outputs": [],
      "source": [
        "class FinancialNews(Dataset):\n",
        "    def __init__(\n",
        "        self,\n",
        "        X, y,\n",
        "        word_to_idx,\n",
        "        max_seq_len,\n",
        "        transform=None\n",
        "    ):\n",
        "        self.texts = X\n",
        "        self.labels = y\n",
        "        self.word_to_idx = word_to_idx\n",
        "        self.max_seq_len = max_seq_len\n",
        "        self.transform = transform\n",
        "\n",
        "    def __len__(self):\n",
        "        return len(self.texts)\n",
        "\n",
        "    def __getitem__(self, idx):\n",
        "        text = self.texts[idx]\n",
        "        label = self.labels[idx]\n",
        "\n",
        "        if self.transform:\n",
        "            text = self.transform(text, self.word_to_idx, self.max_seq_len)\n",
        "        text = torch.tensor(text)\n",
        "\n",
        "        return text, label"
      ]
    },
    {
      "cell_type": "markdown",
      "source": [
        "#**8. Khai báo dataloader:**"
      ],
      "metadata": {
        "id": "fa2kqAzIFK0P"
      },
      "id": "fa2kqAzIFK0P"
    },
    {
      "cell_type": "code",
      "execution_count": 12,
      "id": "462de074",
      "metadata": {
        "id": "462de074"
      },
      "outputs": [],
      "source": [
        "max_seq_len = 32\n",
        "\n",
        "train_dataset = FinancialNews(\n",
        "    X_train, y_train,\n",
        "    word_to_idx=word_to_idx,\n",
        "    max_seq_len=max_seq_len,\n",
        "    transform=transform\n",
        ")\n",
        "val_dataset = FinancialNews(\n",
        "    X_val, y_val,\n",
        "    word_to_idx=word_to_idx,\n",
        "    max_seq_len=max_seq_len,\n",
        "    transform=transform\n",
        ")\n",
        "test_dataset = FinancialNews(\n",
        "    X_test, y_test,\n",
        "    word_to_idx=word_to_idx,\n",
        "    max_seq_len=max_seq_len,\n",
        "    transform=transform\n",
        ")\n",
        "\n",
        "train_batch_size = 128\n",
        "test_batch_size = 8\n",
        "\n",
        "train_loader = DataLoader(\n",
        "    train_dataset,\n",
        "    batch_size=train_batch_size,\n",
        "    shuffle=True\n",
        ")\n",
        "val_loader = DataLoader(\n",
        "    val_dataset,\n",
        "    batch_size=test_batch_size,\n",
        "    shuffle=False\n",
        ")\n",
        "test_loader = DataLoader(\n",
        "    test_dataset,\n",
        "    batch_size=test_batch_size,\n",
        "    shuffle=False\n",
        ")"
      ]
    },
    {
      "cell_type": "markdown",
      "source": [
        "#**9. Xây dựng mô hình:**"
      ],
      "metadata": {
        "id": "MD1prTjTFP9U"
      },
      "id": "MD1prTjTFP9U"
    },
    {
      "cell_type": "code",
      "execution_count": 13,
      "id": "9ce5bfca",
      "metadata": {
        "id": "9ce5bfca"
      },
      "outputs": [],
      "source": [
        "class SentimentClassifier(nn.Module):\n",
        "    def __init__(\n",
        "        self, vocab_size, embedding_dim,\n",
        "        hidden_size, n_layers, n_classes,\n",
        "        dropout_prob\n",
        "    ):\n",
        "        super(SentimentClassifier, self).__init__()\n",
        "        self.embedding = nn.Embedding(vocab_size, embedding_dim)\n",
        "        self.rnn = nn.RNN(embedding_dim, hidden_size, n_layers, batch_first=True)\n",
        "        self.norm = nn.LayerNorm(hidden_size)\n",
        "        self.dropout = nn.Dropout(dropout_prob)\n",
        "        self.fc1 = nn.Linear(hidden_size, 16)\n",
        "        self.relu = nn.ReLU()\n",
        "        self.fc2 = nn.Linear(16, n_classes)\n",
        "\n",
        "    def forward(self, x):\n",
        "        x = self.embedding(x)\n",
        "        x, hn = self.rnn(x)\n",
        "        x = x[:, -1, :]\n",
        "        x = self.norm(x)\n",
        "        x = self.dropout(x)\n",
        "        x = self.fc1(x)\n",
        "        x = self.relu(x)\n",
        "        x = self.fc2(x)\n",
        "\n",
        "        return x"
      ]
    },
    {
      "cell_type": "code",
      "execution_count": 14,
      "id": "3eb16c39",
      "metadata": {
        "id": "3eb16c39"
      },
      "outputs": [],
      "source": [
        "n_classes = len(list(classes.keys()))\n",
        "embedding_dim = 64\n",
        "hidden_size = 64\n",
        "n_layers = 2\n",
        "dropout_prob = 0.2\n",
        "device = 'cuda' if torch.cuda.is_available() else 'cpu'\n",
        "\n",
        "model = SentimentClassifier(\n",
        "    vocab_size=vocab_size,\n",
        "    embedding_dim=embedding_dim,\n",
        "    hidden_size=hidden_size,\n",
        "    n_layers=n_layers,\n",
        "    n_classes=n_classes,\n",
        "    dropout_prob=dropout_prob\n",
        ").to(device)"
      ]
    },
    {
      "cell_type": "markdown",
      "source": [
        "#**10. Cài đặt hàm loss và optimizer:**"
      ],
      "metadata": {
        "id": "uoiEVFIsFSGs"
      },
      "id": "uoiEVFIsFSGs"
    },
    {
      "cell_type": "code",
      "execution_count": 15,
      "id": "a80115e1",
      "metadata": {
        "id": "a80115e1"
      },
      "outputs": [],
      "source": [
        "lr = 1e-4\n",
        "epochs = 50\n",
        "\n",
        "criterion = nn.CrossEntropyLoss()\n",
        "optimizer = torch.optim.Adam(model.parameters(), lr=lr)"
      ]
    },
    {
      "cell_type": "markdown",
      "source": [
        "#**11. Thực hiện huấn luyện:**"
      ],
      "metadata": {
        "id": "TTDhLA2mFX7Y"
      },
      "id": "TTDhLA2mFX7Y"
    },
    {
      "cell_type": "code",
      "execution_count": 16,
      "id": "81145eec",
      "metadata": {
        "id": "81145eec"
      },
      "outputs": [],
      "source": [
        "def fit(\n",
        "    model,\n",
        "    train_loader,\n",
        "    val_loader,\n",
        "    criterion,\n",
        "    optimizer,\n",
        "    device,\n",
        "    epochs\n",
        "):\n",
        "    train_losses = []\n",
        "    val_losses = []\n",
        "\n",
        "    for epoch in range(epochs):\n",
        "        batch_train_losses = []\n",
        "\n",
        "        model.train()\n",
        "        for idx, (inputs, labels) in enumerate(train_loader):\n",
        "            inputs, labels = inputs.to(device), labels.to(device)\n",
        "\n",
        "            optimizer.zero_grad()\n",
        "            outputs = model(inputs)\n",
        "            loss = criterion(outputs, labels)\n",
        "            loss.backward()\n",
        "            optimizer.step()\n",
        "\n",
        "            batch_train_losses.append(loss.item())\n",
        "\n",
        "        train_loss = sum(batch_train_losses) / len(batch_train_losses)\n",
        "        train_losses.append(train_loss)\n",
        "\n",
        "        val_loss, val_acc = evaluate(\n",
        "            model, val_loader,\n",
        "            criterion, device\n",
        "        )\n",
        "        val_losses.append(val_loss)\n",
        "\n",
        "        print(f'EPOCH {epoch + 1}:\\tTrain loss: {train_loss:.4f}\\tVal loss: {val_loss:.4f}')\n",
        "\n",
        "    return train_losses, val_losses"
      ]
    },
    {
      "cell_type": "code",
      "execution_count": 17,
      "id": "682d2073",
      "metadata": {
        "id": "682d2073"
      },
      "outputs": [],
      "source": [
        "def evaluate(model, dataloader, criterion, device):\n",
        "    model.eval()\n",
        "    correct = 0\n",
        "    total = 0\n",
        "    losses = []\n",
        "    with torch.no_grad():\n",
        "        for inputs, labels in dataloader:\n",
        "            inputs, labels = inputs.to(device), labels.to(device)\n",
        "            outputs = model(inputs)\n",
        "            loss = criterion(outputs, labels)\n",
        "            losses.append(loss.item())\n",
        "            _, predicted = torch.max(outputs.data, 1)\n",
        "            total += labels.size(0)\n",
        "            correct += (predicted == labels).sum().item()\n",
        "\n",
        "    loss = sum(losses) / len(losses)\n",
        "    acc = correct / total\n",
        "\n",
        "    return loss, acc"
      ]
    },
    {
      "cell_type": "code",
      "execution_count": 18,
      "id": "3558ed3f",
      "metadata": {
        "scrolled": false,
        "colab": {
          "base_uri": "https://localhost:8080/"
        },
        "id": "3558ed3f",
        "outputId": "ddc6c3b2-46c2-4dbd-c18d-1365d501b526"
      },
      "outputs": [
        {
          "output_type": "stream",
          "name": "stdout",
          "text": [
            "EPOCH 1:\tTrain loss: 1.0055\tVal loss: 0.9582\n",
            "EPOCH 2:\tTrain loss: 0.9472\tVal loss: 0.9345\n",
            "EPOCH 3:\tTrain loss: 0.9286\tVal loss: 0.9299\n",
            "EPOCH 4:\tTrain loss: 0.9279\tVal loss: 0.9290\n",
            "EPOCH 5:\tTrain loss: 0.9320\tVal loss: 0.9288\n",
            "EPOCH 6:\tTrain loss: 0.9284\tVal loss: 0.9290\n",
            "EPOCH 7:\tTrain loss: 0.9342\tVal loss: 0.9283\n",
            "EPOCH 8:\tTrain loss: 0.9339\tVal loss: 0.9283\n",
            "EPOCH 9:\tTrain loss: 0.9316\tVal loss: 0.9283\n",
            "EPOCH 10:\tTrain loss: 0.9292\tVal loss: 0.9283\n",
            "EPOCH 11:\tTrain loss: 0.9243\tVal loss: 0.9282\n",
            "EPOCH 12:\tTrain loss: 0.9328\tVal loss: 0.9281\n",
            "EPOCH 13:\tTrain loss: 0.9250\tVal loss: 0.9281\n",
            "EPOCH 14:\tTrain loss: 0.9290\tVal loss: 0.9281\n",
            "EPOCH 15:\tTrain loss: 0.9316\tVal loss: 0.9281\n",
            "EPOCH 16:\tTrain loss: 0.9349\tVal loss: 0.9280\n",
            "EPOCH 17:\tTrain loss: 0.9340\tVal loss: 0.9280\n",
            "EPOCH 18:\tTrain loss: 0.9339\tVal loss: 0.9279\n",
            "EPOCH 19:\tTrain loss: 0.9334\tVal loss: 0.9279\n",
            "EPOCH 20:\tTrain loss: 0.9295\tVal loss: 0.9279\n",
            "EPOCH 21:\tTrain loss: 0.9217\tVal loss: 0.9279\n",
            "EPOCH 22:\tTrain loss: 0.9295\tVal loss: 0.9278\n",
            "EPOCH 23:\tTrain loss: 0.9349\tVal loss: 0.9276\n",
            "EPOCH 24:\tTrain loss: 0.9263\tVal loss: 0.9278\n",
            "EPOCH 25:\tTrain loss: 0.9290\tVal loss: 0.9275\n",
            "EPOCH 26:\tTrain loss: 0.9274\tVal loss: 0.9276\n",
            "EPOCH 27:\tTrain loss: 0.9256\tVal loss: 0.9273\n",
            "EPOCH 28:\tTrain loss: 0.9231\tVal loss: 0.9275\n",
            "EPOCH 29:\tTrain loss: 0.9248\tVal loss: 0.9271\n",
            "EPOCH 30:\tTrain loss: 0.9263\tVal loss: 0.9268\n",
            "EPOCH 31:\tTrain loss: 0.9262\tVal loss: 0.9266\n",
            "EPOCH 32:\tTrain loss: 0.9254\tVal loss: 0.9261\n",
            "EPOCH 33:\tTrain loss: 0.9238\tVal loss: 0.9261\n",
            "EPOCH 34:\tTrain loss: 0.9266\tVal loss: 0.9255\n",
            "EPOCH 35:\tTrain loss: 0.9220\tVal loss: 0.9247\n",
            "EPOCH 36:\tTrain loss: 0.9261\tVal loss: 0.9235\n",
            "EPOCH 37:\tTrain loss: 0.9262\tVal loss: 0.9262\n",
            "EPOCH 38:\tTrain loss: 0.9246\tVal loss: 0.9233\n",
            "EPOCH 39:\tTrain loss: 0.9237\tVal loss: 0.9362\n",
            "EPOCH 40:\tTrain loss: 0.9135\tVal loss: 0.9230\n",
            "EPOCH 41:\tTrain loss: 0.9090\tVal loss: 0.9228\n",
            "EPOCH 42:\tTrain loss: 0.9082\tVal loss: 0.9210\n",
            "EPOCH 43:\tTrain loss: 0.9091\tVal loss: 0.9078\n",
            "EPOCH 44:\tTrain loss: 0.8606\tVal loss: 0.9558\n",
            "EPOCH 45:\tTrain loss: 0.8599\tVal loss: 0.8864\n",
            "EPOCH 46:\tTrain loss: 0.8562\tVal loss: 0.8808\n",
            "EPOCH 47:\tTrain loss: 0.8371\tVal loss: 0.8812\n",
            "EPOCH 48:\tTrain loss: 0.8260\tVal loss: 0.8794\n",
            "EPOCH 49:\tTrain loss: 0.8227\tVal loss: 0.8782\n",
            "EPOCH 50:\tTrain loss: 0.8158\tVal loss: 0.8765\n"
          ]
        }
      ],
      "source": [
        "train_losses, val_losses = fit(\n",
        "    model,\n",
        "    train_loader,\n",
        "    val_loader,\n",
        "    criterion,\n",
        "    optimizer,\n",
        "    device,\n",
        "    epochs\n",
        ")"
      ]
    },
    {
      "cell_type": "code",
      "execution_count": 19,
      "id": "892152b6",
      "metadata": {
        "colab": {
          "base_uri": "https://localhost:8080/"
        },
        "id": "892152b6",
        "outputId": "f2574172-a044-4354-c73d-5183013552ba"
      },
      "outputs": [
        {
          "output_type": "stream",
          "name": "stdout",
          "text": [
            "Output shape: torch.Size([1, 3])\n"
          ]
        }
      ],
      "source": [
        "model.eval()\n",
        "\n",
        "dummy_tensor = torch.randint(10, (1, 10)).to(device)\n",
        "\n",
        "with torch.no_grad():\n",
        "    output = model(dummy_tensor)\n",
        "\n",
        "print('Output shape:', output.shape)"
      ]
    },
    {
      "cell_type": "markdown",
      "source": [
        "#**12. Đánh giá mô hình:**"
      ],
      "metadata": {
        "id": "BjeolJVdFjJE"
      },
      "id": "BjeolJVdFjJE"
    },
    {
      "cell_type": "code",
      "execution_count": 20,
      "id": "866ac448",
      "metadata": {
        "colab": {
          "base_uri": "https://localhost:8080/",
          "height": 487
        },
        "id": "866ac448",
        "outputId": "f55f592b-891a-44db-ee40-bfd21a6bb036"
      },
      "outputs": [
        {
          "output_type": "display_data",
          "data": {
            "text/plain": [
              "<Figure size 1200x500 with 2 Axes>"
            ],
            "image/png": "[encoded data removed]"
          },
          "metadata": {}
        }
      ],
      "source": [
        "fig, ax = plt.subplots(1, 2, figsize=(12, 5))\n",
        "\n",
        "ax[0].plot(train_losses)\n",
        "ax[0].set_title('Training Loss')\n",
        "ax[0].set_xlabel('Epoch')\n",
        "ax[0].set_ylabel('Loss')\n",
        "\n",
        "ax[1].plot(val_losses, color='orange')\n",
        "ax[1].set_title('Val Loss')\n",
        "ax[1].set_xlabel('Epoch')\n",
        "ax[1].set_ylabel('Loss')\n",
        "plt.show()"
      ]
    },
    {
      "cell_type": "code",
      "execution_count": 21,
      "id": "e0a2d0fe",
      "metadata": {
        "colab": {
          "base_uri": "https://localhost:8080/"
        },
        "id": "e0a2d0fe",
        "outputId": "ddfbb579-5b3a-40a9-ccf7-a92878c4e128"
      },
      "outputs": [
        {
          "output_type": "stream",
          "name": "stdout",
          "text": [
            "Evaluation on val/test dataset\n",
            "Val accuracy:  0.6206185567010309\n",
            "Test accuracy:  0.6314432989690721\n"
          ]
        }
      ],
      "source": [
        "val_loss, val_acc = evaluate(\n",
        "    model,\n",
        "    val_loader,\n",
        "    criterion,\n",
        "    device\n",
        ")\n",
        "test_loss, test_acc = evaluate(\n",
        "    model,\n",
        "    test_loader,\n",
        "    criterion,\n",
        "    device\n",
        ")\n",
        "\n",
        "print('Evaluation on val/test dataset')\n",
        "print('Val accuracy: ', val_acc)\n",
        "print('Test accuracy: ', test_acc)"
      ]
    }
  ],
  "metadata": {
    "kernelspec": {
      "display_name": "Python [conda env:thangdd_env] *",
      "language": "python",
      "name": "conda-env-thangdd_env-py"
    },
    "language_info": {
      "codemirror_mode": {
        "name": "ipython",
        "version": 3
      },
      "file_extension": ".py",
      "mimetype": "text/x-python",
      "name": "python",
      "nbconvert_exporter": "python",
      "pygments_lexer": "ipython3",
      "version": "3.11.5"
    },
    "colab": {
      "provenance": [],
      "gpuType": "T4"
    },
    "accelerator": "GPU"
  },
  "nbformat": 4,
  "nbformat_minor": 5
}