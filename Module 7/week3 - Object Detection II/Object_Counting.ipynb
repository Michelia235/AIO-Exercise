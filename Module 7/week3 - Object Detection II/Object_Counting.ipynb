{
 "cells": [
  {
   "cell_type": "code",
   "execution_count": null,
   "metadata": {
    "vscode": {
     "languageId": "plaintext"
    }
   },
   "outputs": [],
   "source": [
    "import cv2\n",
    "from ultralytics import solutions\n",
    "\n",
    "# Open the video file\n",
    "video_path = \"samples/highway.mp4\"\n",
    "cap = cv2.VideoCapture(video_path)\n",
    "\n",
    "# Get video properties\n",
    "width = int(cap.get(cv2.CAP_PROP_FRAME_WIDTH))\n",
    "height = int(cap.get(cv2.CAP_PROP_FRAME_HEIGHT))\n",
    "fps = int(cap.get(cv2.CAP_PROP_FPS))\n",
    "\n",
    "# Define region points for counting\n",
    "# For line counting: region_points = [(20, 400), (1080, 400)]\n",
    "# For rectangle region counting:\n",
    "region_points = [\n",
    "    (430, 700),\n",
    "    (1600, 700),\n",
    "    (1600, 1080),\n",
    "    (430, 1080),\n",
    "]  # top left, top right, bottom right, bottom left\n",
    "\n",
    "# Initialize VideoWriter to save the output video\n",
    "output_path = \"./run/highway_counted.mp4\"\n",
    "fourcc = cv2.VideoWriter_fourcc(*\"mp4v\")\n",
    "video_writer = cv2.VideoWriter(output_path, fourcc, fps, (width, height))\n",
    "\n",
    "# Initialize ObjectCounter\n",
    "counter = solutions.ObjectCounter(\n",
    "    show=False,  # Display the output\n",
    "    region=region_points,  # Pass region points\n",
    "    model=\"yolo11n.pt\",  # Model for object detection\n",
    ")\n",
    "\n",
    "# Process video frames\n",
    "while cap.isOpened():\n",
    "    success, frame = cap.read()\n",
    "    if not success:\n",
    "        break\n",
    "\n",
    "    # Count objects in the frame\n",
    "    im0 = counter.count(frame)\n",
    "\n",
    "    # Write the frame with counted objects to the output video\n",
    "    video_writer.write(im0)\n",
    "\n",
    "# Release everything\n",
    "cap.release()\n",
    "video_writer.release()\n",
    "print(f\"Video has been saved to {output_path}\")"
   ]
  }
 ],
 "metadata": {
  "language_info": {
   "name": "python"
  }
 },
 "nbformat": 4,
 "nbformat_minor": 2
}
