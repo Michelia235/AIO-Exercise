{
 "cells": [
  {
   "cell_type": "code",
   "execution_count": null,
   "metadata": {
    "vscode": {
     "languageId": "plaintext"
    }
   },
   "outputs": [],
   "source": [
    "from ultralytics import YOLOWorld\n",
    "from ultralytics.engine.results import Boxes\n",
    "import cv2\n",
    "\n",
    "# Initialize a YOLO-World model\n",
    "model = YOLOWorld(\"yolov8s-world.pt\")\n",
    "\n",
    "# Define custom classes (you can change this list to detect other objects)\n",
    "custom_classes = [\"bus\", \"phone\", \"glasses\", \"mask\"]  # Example classes\n",
    "model.set_classes(custom_classes)\n",
    "\n",
    "# Load an image for detection\n",
    "image_path = \"samples/bus.jpg\"\n",
    "image = cv2.imread(image_path)\n",
    "\n",
    "# Perform prediction on the image\n",
    "results: Boxes = model.predict(image)\n",
    "\n",
    "# Visualize the results\n",
    "annotated_image = results[0].plot()\n",
    "\n",
    "# Save the annotated image with detected objects\n",
    "output_path = \"output_detection.jpg\"\n",
    "cv2.imwrite(output_path, annotated_image)\n",
    "\n",
    "print(f\"Detection results saved to {output_path}\")"
   ]
  }
 ],
 "metadata": {
  "language_info": {
   "name": "python"
  }
 },
 "nbformat": 4,
 "nbformat_minor": 2
}
